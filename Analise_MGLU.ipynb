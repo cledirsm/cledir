{
  "nbformat": 4,
  "nbformat_minor": 0,
  "metadata": {
    "colab": {
      "provenance": [],
      "authorship_tag": "ABX9TyO0ay3ZzNXOE4KWvsOUmZEx",
      "include_colab_link": true
    },
    "kernelspec": {
      "name": "python3",
      "display_name": "Python 3"
    },
    "language_info": {
      "name": "python"
    }
  },
  "cells": [
    {
      "cell_type": "markdown",
      "metadata": {
        "id": "view-in-github",
        "colab_type": "text"
      },
      "source": [
        "<a href=\"https://colab.research.google.com/github/cledirsm/cledir/blob/main/Analise_MGLU.ipynb\" target=\"_parent\"><img src=\"https://colab.research.google.com/assets/colab-badge.svg\" alt=\"Open In Colab\"/></a>"
      ]
    },
    {
      "cell_type": "markdown",
      "source": [
        "Importanto e instalando bibliotecas "
      ],
      "metadata": {
        "id": "AwWYnIjEwxLi"
      }
    },
    {
      "cell_type": "code",
      "execution_count": 4,
      "metadata": {
        "colab": {
          "base_uri": "https://localhost:8080/"
        },
        "id": "JLRgxxu2s5Ho",
        "outputId": "a35155cd-f16a-4e6f-b4e4-02094cd3caec"
      },
      "outputs": [
        {
          "output_type": "stream",
          "name": "stdout",
          "text": [
            "Looking in indexes: https://pypi.org/simple, https://us-python.pkg.dev/colab-wheels/public/simple/\n",
            "Collecting yfinance\n",
            "  Downloading yfinance-0.2.4-py2.py3-none-any.whl (51 kB)\n",
            "\u001b[2K     \u001b[90m━━━━━━━━━━━━━━━━━━━━━━━━━━━━━━━━━━━━━━━━\u001b[0m \u001b[32m51.4/51.4 KB\u001b[0m \u001b[31m2.9 MB/s\u001b[0m eta \u001b[36m0:00:00\u001b[0m\n",
            "\u001b[?25hCollecting requests>=2.26\n",
            "  Downloading requests-2.28.2-py3-none-any.whl (62 kB)\n",
            "\u001b[2K     \u001b[90m━━━━━━━━━━━━━━━━━━━━━━━━━━━━━━━━━━━━━━━━\u001b[0m \u001b[32m62.8/62.8 KB\u001b[0m \u001b[31m17.6 MB/s\u001b[0m eta \u001b[36m0:00:00\u001b[0m\n",
            "\u001b[?25hRequirement already satisfied: multitasking>=0.0.7 in /usr/local/lib/python3.8/dist-packages (from yfinance) (0.0.11)\n",
            "Collecting frozendict>=2.3.4\n",
            "  Downloading frozendict-2.3.4-cp38-cp38-manylinux_2_17_x86_64.manylinux2014_x86_64.whl (110 kB)\n",
            "\u001b[2K     \u001b[90m━━━━━━━━━━━━━━━━━━━━━━━━━━━━━━━━━━━━━━\u001b[0m \u001b[32m111.0/111.0 KB\u001b[0m \u001b[31m88.9 MB/s\u001b[0m eta \u001b[36m0:00:00\u001b[0m\n",
            "\u001b[?25hRequirement already satisfied: lxml>=4.9.1 in /usr/local/lib/python3.8/dist-packages (from yfinance) (4.9.2)\n",
            "Collecting cryptography>=3.3.2\n",
            "  Downloading cryptography-39.0.0-cp36-abi3-manylinux_2_24_x86_64.whl (4.1 MB)\n",
            "\u001b[2K     \u001b[90m━━━━━━━━━━━━━━━━━━━━━━━━━━━━━━━━━━━━━━━━\u001b[0m \u001b[32m4.1/4.1 MB\u001b[0m \u001b[31m72.3 MB/s\u001b[0m eta \u001b[36m0:00:00\u001b[0m\n",
            "\u001b[?25hRequirement already satisfied: pandas>=1.3.0 in /usr/local/lib/python3.8/dist-packages (from yfinance) (1.3.5)\n",
            "Requirement already satisfied: pytz>=2022.5 in /usr/local/lib/python3.8/dist-packages (from yfinance) (2022.7)\n",
            "Requirement already satisfied: appdirs>=1.4.4 in /usr/local/lib/python3.8/dist-packages (from yfinance) (1.4.4)\n",
            "Collecting html5lib>=1.1\n",
            "  Downloading html5lib-1.1-py2.py3-none-any.whl (112 kB)\n",
            "\u001b[2K     \u001b[90m━━━━━━━━━━━━━━━━━━━━━━━━━━━━━━━━━━━━━\u001b[0m \u001b[32m112.2/112.2 KB\u001b[0m \u001b[31m223.3 MB/s\u001b[0m eta \u001b[36m0:00:00\u001b[0m\n",
            "\u001b[?25hCollecting beautifulsoup4>=4.11.1\n",
            "  Downloading beautifulsoup4-4.11.1-py3-none-any.whl (128 kB)\n",
            "\u001b[2K     \u001b[90m━━━━━━━━━━━━━━━━━━━━━━━━━━━━━━━━━━━━━\u001b[0m \u001b[32m128.2/128.2 KB\u001b[0m \u001b[31m160.3 MB/s\u001b[0m eta \u001b[36m0:00:00\u001b[0m\n",
            "\u001b[?25hRequirement already satisfied: numpy>=1.16.5 in /usr/local/lib/python3.8/dist-packages (from yfinance) (1.21.6)\n",
            "Collecting soupsieve>1.2\n",
            "  Downloading soupsieve-2.3.2.post1-py3-none-any.whl (37 kB)\n",
            "Requirement already satisfied: cffi>=1.12 in /usr/local/lib/python3.8/dist-packages (from cryptography>=3.3.2->yfinance) (1.15.1)\n",
            "Requirement already satisfied: webencodings in /usr/local/lib/python3.8/dist-packages (from html5lib>=1.1->yfinance) (0.5.1)\n",
            "Requirement already satisfied: six>=1.9 in /usr/local/lib/python3.8/dist-packages (from html5lib>=1.1->yfinance) (1.15.0)\n",
            "Requirement already satisfied: python-dateutil>=2.7.3 in /usr/local/lib/python3.8/dist-packages (from pandas>=1.3.0->yfinance) (2.8.2)\n",
            "Requirement already satisfied: idna<4,>=2.5 in /usr/local/lib/python3.8/dist-packages (from requests>=2.26->yfinance) (2.10)\n",
            "Requirement already satisfied: certifi>=2017.4.17 in /usr/local/lib/python3.8/dist-packages (from requests>=2.26->yfinance) (2022.12.7)\n",
            "Requirement already satisfied: charset-normalizer<4,>=2 in /usr/local/lib/python3.8/dist-packages (from requests>=2.26->yfinance) (2.1.1)\n",
            "Requirement already satisfied: urllib3<1.27,>=1.21.1 in /usr/local/lib/python3.8/dist-packages (from requests>=2.26->yfinance) (1.24.3)\n",
            "Requirement already satisfied: pycparser in /usr/local/lib/python3.8/dist-packages (from cffi>=1.12->cryptography>=3.3.2->yfinance) (2.21)\n",
            "Installing collected packages: soupsieve, requests, html5lib, frozendict, cryptography, beautifulsoup4, yfinance\n",
            "  Attempting uninstall: requests\n",
            "    Found existing installation: requests 2.25.1\n",
            "    Uninstalling requests-2.25.1:\n",
            "      Successfully uninstalled requests-2.25.1\n",
            "  Attempting uninstall: html5lib\n",
            "    Found existing installation: html5lib 1.0.1\n",
            "    Uninstalling html5lib-1.0.1:\n",
            "      Successfully uninstalled html5lib-1.0.1\n",
            "  Attempting uninstall: beautifulsoup4\n",
            "    Found existing installation: beautifulsoup4 4.6.3\n",
            "    Uninstalling beautifulsoup4-4.6.3:\n",
            "      Successfully uninstalled beautifulsoup4-4.6.3\n",
            "Successfully installed beautifulsoup4-4.11.1 cryptography-39.0.0 frozendict-2.3.4 html5lib-1.1 requests-2.28.2 soupsieve-2.3.2.post1 yfinance-0.2.4\n"
          ]
        }
      ],
      "source": [
        "import pandas as pd\n",
        "import numpy as np\n",
        "import matplotlib.pyplot as plt\n",
        "\n",
        "!pip install yfinance --upgrade --no-cache-dir\n",
        "import yfinance as yf"
      ]
    },
    {
      "cell_type": "markdown",
      "source": [
        "Importanto e plotando ticker da Magazine Luiza"
      ],
      "metadata": {
        "id": "jw4PLvS7w2JS"
      }
    },
    {
      "cell_type": "code",
      "source": [
        "ticker = yf.download(tickers = \"MGLU3.SA\", period = \"1y\")\n",
        "ticker"
      ],
      "metadata": {
        "colab": {
          "base_uri": "https://localhost:8080/",
          "height": 472
        },
        "id": "WpZdEoOTw7bZ",
        "outputId": "0f4befe4-0596-481e-a25e-ab3c1fce08da"
      },
      "execution_count": 17,
      "outputs": [
        {
          "output_type": "stream",
          "name": "stdout",
          "text": [
            "\r[*********************100%***********************]  1 of 1 completed\n"
          ]
        },
        {
          "output_type": "execute_result",
          "data": {
            "text/plain": [
              "                           Open  High   Low  Close  Adj Close     Volume\n",
              "Date                                                                    \n",
              "2022-01-17 00:00:00-03:00  6.27  6.38  6.12   6.12       6.12   61801100\n",
              "2022-01-18 00:00:00-03:00  6.08  6.23  5.89   5.89       5.89  117014400\n",
              "2022-01-19 00:00:00-03:00  6.01  6.60  6.01   6.31       6.31  197823800\n",
              "2022-01-20 00:00:00-03:00  6.36  6.81  6.35   6.65       6.65  140783000\n",
              "2022-01-21 00:00:00-03:00  6.54  7.08  6.46   6.90       6.90  151141500\n",
              "...                         ...   ...   ...    ...        ...        ...\n",
              "2023-01-10 00:00:00-03:00  2.79  3.09  2.76   3.05       3.05  192054800\n",
              "2023-01-11 00:00:00-03:00  3.07  3.11  2.90   3.03       3.03  170364500\n",
              "2023-01-12 00:00:00-03:00  2.70  3.28  2.69   3.19       3.19  383841100\n",
              "2023-01-13 00:00:00-03:00  3.16  3.62  3.09   3.43       3.43  315639000\n",
              "2023-01-16 00:00:00-03:00  3.38  3.61  3.37   3.61       3.61   26058400\n",
              "\n",
              "[251 rows x 6 columns]"
            ],
            "text/html": [
              "\n",
              "  <div id=\"df-d684ae50-4dcc-4d40-a818-7f9116a1e7cf\">\n",
              "    <div class=\"colab-df-container\">\n",
              "      <div>\n",
              "<style scoped>\n",
              "    .dataframe tbody tr th:only-of-type {\n",
              "        vertical-align: middle;\n",
              "    }\n",
              "\n",
              "    .dataframe tbody tr th {\n",
              "        vertical-align: top;\n",
              "    }\n",
              "\n",
              "    .dataframe thead th {\n",
              "        text-align: right;\n",
              "    }\n",
              "</style>\n",
              "<table border=\"1\" class=\"dataframe\">\n",
              "  <thead>\n",
              "    <tr style=\"text-align: right;\">\n",
              "      <th></th>\n",
              "      <th>Open</th>\n",
              "      <th>High</th>\n",
              "      <th>Low</th>\n",
              "      <th>Close</th>\n",
              "      <th>Adj Close</th>\n",
              "      <th>Volume</th>\n",
              "    </tr>\n",
              "    <tr>\n",
              "      <th>Date</th>\n",
              "      <th></th>\n",
              "      <th></th>\n",
              "      <th></th>\n",
              "      <th></th>\n",
              "      <th></th>\n",
              "      <th></th>\n",
              "    </tr>\n",
              "  </thead>\n",
              "  <tbody>\n",
              "    <tr>\n",
              "      <th>2022-01-17 00:00:00-03:00</th>\n",
              "      <td>6.27</td>\n",
              "      <td>6.38</td>\n",
              "      <td>6.12</td>\n",
              "      <td>6.12</td>\n",
              "      <td>6.12</td>\n",
              "      <td>61801100</td>\n",
              "    </tr>\n",
              "    <tr>\n",
              "      <th>2022-01-18 00:00:00-03:00</th>\n",
              "      <td>6.08</td>\n",
              "      <td>6.23</td>\n",
              "      <td>5.89</td>\n",
              "      <td>5.89</td>\n",
              "      <td>5.89</td>\n",
              "      <td>117014400</td>\n",
              "    </tr>\n",
              "    <tr>\n",
              "      <th>2022-01-19 00:00:00-03:00</th>\n",
              "      <td>6.01</td>\n",
              "      <td>6.60</td>\n",
              "      <td>6.01</td>\n",
              "      <td>6.31</td>\n",
              "      <td>6.31</td>\n",
              "      <td>197823800</td>\n",
              "    </tr>\n",
              "    <tr>\n",
              "      <th>2022-01-20 00:00:00-03:00</th>\n",
              "      <td>6.36</td>\n",
              "      <td>6.81</td>\n",
              "      <td>6.35</td>\n",
              "      <td>6.65</td>\n",
              "      <td>6.65</td>\n",
              "      <td>140783000</td>\n",
              "    </tr>\n",
              "    <tr>\n",
              "      <th>2022-01-21 00:00:00-03:00</th>\n",
              "      <td>6.54</td>\n",
              "      <td>7.08</td>\n",
              "      <td>6.46</td>\n",
              "      <td>6.90</td>\n",
              "      <td>6.90</td>\n",
              "      <td>151141500</td>\n",
              "    </tr>\n",
              "    <tr>\n",
              "      <th>...</th>\n",
              "      <td>...</td>\n",
              "      <td>...</td>\n",
              "      <td>...</td>\n",
              "      <td>...</td>\n",
              "      <td>...</td>\n",
              "      <td>...</td>\n",
              "    </tr>\n",
              "    <tr>\n",
              "      <th>2023-01-10 00:00:00-03:00</th>\n",
              "      <td>2.79</td>\n",
              "      <td>3.09</td>\n",
              "      <td>2.76</td>\n",
              "      <td>3.05</td>\n",
              "      <td>3.05</td>\n",
              "      <td>192054800</td>\n",
              "    </tr>\n",
              "    <tr>\n",
              "      <th>2023-01-11 00:00:00-03:00</th>\n",
              "      <td>3.07</td>\n",
              "      <td>3.11</td>\n",
              "      <td>2.90</td>\n",
              "      <td>3.03</td>\n",
              "      <td>3.03</td>\n",
              "      <td>170364500</td>\n",
              "    </tr>\n",
              "    <tr>\n",
              "      <th>2023-01-12 00:00:00-03:00</th>\n",
              "      <td>2.70</td>\n",
              "      <td>3.28</td>\n",
              "      <td>2.69</td>\n",
              "      <td>3.19</td>\n",
              "      <td>3.19</td>\n",
              "      <td>383841100</td>\n",
              "    </tr>\n",
              "    <tr>\n",
              "      <th>2023-01-13 00:00:00-03:00</th>\n",
              "      <td>3.16</td>\n",
              "      <td>3.62</td>\n",
              "      <td>3.09</td>\n",
              "      <td>3.43</td>\n",
              "      <td>3.43</td>\n",
              "      <td>315639000</td>\n",
              "    </tr>\n",
              "    <tr>\n",
              "      <th>2023-01-16 00:00:00-03:00</th>\n",
              "      <td>3.38</td>\n",
              "      <td>3.61</td>\n",
              "      <td>3.37</td>\n",
              "      <td>3.61</td>\n",
              "      <td>3.61</td>\n",
              "      <td>26058400</td>\n",
              "    </tr>\n",
              "  </tbody>\n",
              "</table>\n",
              "<p>251 rows × 6 columns</p>\n",
              "</div>\n",
              "      <button class=\"colab-df-convert\" onclick=\"convertToInteractive('df-d684ae50-4dcc-4d40-a818-7f9116a1e7cf')\"\n",
              "              title=\"Convert this dataframe to an interactive table.\"\n",
              "              style=\"display:none;\">\n",
              "        \n",
              "  <svg xmlns=\"http://www.w3.org/2000/svg\" height=\"24px\"viewBox=\"0 0 24 24\"\n",
              "       width=\"24px\">\n",
              "    <path d=\"M0 0h24v24H0V0z\" fill=\"none\"/>\n",
              "    <path d=\"M18.56 5.44l.94 2.06.94-2.06 2.06-.94-2.06-.94-.94-2.06-.94 2.06-2.06.94zm-11 1L8.5 8.5l.94-2.06 2.06-.94-2.06-.94L8.5 2.5l-.94 2.06-2.06.94zm10 10l.94 2.06.94-2.06 2.06-.94-2.06-.94-.94-2.06-.94 2.06-2.06.94z\"/><path d=\"M17.41 7.96l-1.37-1.37c-.4-.4-.92-.59-1.43-.59-.52 0-1.04.2-1.43.59L10.3 9.45l-7.72 7.72c-.78.78-.78 2.05 0 2.83L4 21.41c.39.39.9.59 1.41.59.51 0 1.02-.2 1.41-.59l7.78-7.78 2.81-2.81c.8-.78.8-2.07 0-2.86zM5.41 20L4 18.59l7.72-7.72 1.47 1.35L5.41 20z\"/>\n",
              "  </svg>\n",
              "      </button>\n",
              "      \n",
              "  <style>\n",
              "    .colab-df-container {\n",
              "      display:flex;\n",
              "      flex-wrap:wrap;\n",
              "      gap: 12px;\n",
              "    }\n",
              "\n",
              "    .colab-df-convert {\n",
              "      background-color: #E8F0FE;\n",
              "      border: none;\n",
              "      border-radius: 50%;\n",
              "      cursor: pointer;\n",
              "      display: none;\n",
              "      fill: #1967D2;\n",
              "      height: 32px;\n",
              "      padding: 0 0 0 0;\n",
              "      width: 32px;\n",
              "    }\n",
              "\n",
              "    .colab-df-convert:hover {\n",
              "      background-color: #E2EBFA;\n",
              "      box-shadow: 0px 1px 2px rgba(60, 64, 67, 0.3), 0px 1px 3px 1px rgba(60, 64, 67, 0.15);\n",
              "      fill: #174EA6;\n",
              "    }\n",
              "\n",
              "    [theme=dark] .colab-df-convert {\n",
              "      background-color: #3B4455;\n",
              "      fill: #D2E3FC;\n",
              "    }\n",
              "\n",
              "    [theme=dark] .colab-df-convert:hover {\n",
              "      background-color: #434B5C;\n",
              "      box-shadow: 0px 1px 3px 1px rgba(0, 0, 0, 0.15);\n",
              "      filter: drop-shadow(0px 1px 2px rgba(0, 0, 0, 0.3));\n",
              "      fill: #FFFFFF;\n",
              "    }\n",
              "  </style>\n",
              "\n",
              "      <script>\n",
              "        const buttonEl =\n",
              "          document.querySelector('#df-d684ae50-4dcc-4d40-a818-7f9116a1e7cf button.colab-df-convert');\n",
              "        buttonEl.style.display =\n",
              "          google.colab.kernel.accessAllowed ? 'block' : 'none';\n",
              "\n",
              "        async function convertToInteractive(key) {\n",
              "          const element = document.querySelector('#df-d684ae50-4dcc-4d40-a818-7f9116a1e7cf');\n",
              "          const dataTable =\n",
              "            await google.colab.kernel.invokeFunction('convertToInteractive',\n",
              "                                                     [key], {});\n",
              "          if (!dataTable) return;\n",
              "\n",
              "          const docLinkHtml = 'Like what you see? Visit the ' +\n",
              "            '<a target=\"_blank\" href=https://colab.research.google.com/notebooks/data_table.ipynb>data table notebook</a>'\n",
              "            + ' to learn more about interactive tables.';\n",
              "          element.innerHTML = '';\n",
              "          dataTable['output_type'] = 'display_data';\n",
              "          await google.colab.output.renderOutput(dataTable, element);\n",
              "          const docLink = document.createElement('div');\n",
              "          docLink.innerHTML = docLinkHtml;\n",
              "          element.appendChild(docLink);\n",
              "        }\n",
              "      </script>\n",
              "    </div>\n",
              "  </div>\n",
              "  "
            ]
          },
          "metadata": {},
          "execution_count": 17
        }
      ]
    },
    {
      "cell_type": "code",
      "source": [
        "plt.plot(ticker['Close'])"
      ],
      "metadata": {
        "colab": {
          "base_uri": "https://localhost:8080/",
          "height": 282
        },
        "id": "7rCYXZfwyfWh",
        "outputId": "7bb6573c-cdd4-4f67-a714-bbe8caa815d3"
      },
      "execution_count": 18,
      "outputs": [
        {
          "output_type": "execute_result",
          "data": {
            "text/plain": [
              "[<matplotlib.lines.Line2D at 0x7f5c37006910>]"
            ]
          },
          "metadata": {},
          "execution_count": 18
        },
        {
          "output_type": "display_data",
          "data": {
            "text/plain": [
              "<Figure size 432x288 with 1 Axes>"
            ],
            "image/png": "[encoded data removed]"
          },
          "metadata": {
            "needs_background": "light"
          }
        }
      ]
    },
    {
      "cell_type": "code",
      "source": [
        "ticker.drop(columns=[\"Open\", \"High\", \"Low\", \"Adj Close\", \"Volume\"], inplace = True)"
      ],
      "metadata": {
        "id": "LEV0lt0lytqR"
      },
      "execution_count": 31,
      "outputs": []
    },
    {
      "cell_type": "code",
      "source": [
        "def SMA(ticker, period = 26, column = \"Close\"):\n",
        "  return ticker[column].rolling(window = period).mean()"
      ],
      "metadata": {
        "id": "rQpKAubBzmXx"
      },
      "execution_count": 22,
      "outputs": []
    },
    {
      "cell_type": "code",
      "source": [
        "plt.plot(SMA(ticker))"
      ],
      "metadata": {
        "colab": {
          "base_uri": "https://localhost:8080/",
          "height": 282
        },
        "id": "J2mxuzGc0KV7",
        "outputId": "60b275d0-4219-4c00-9254-f91863b4e6ea"
      },
      "execution_count": 23,
      "outputs": [
        {
          "output_type": "execute_result",
          "data": {
            "text/plain": [
              "[<matplotlib.lines.Line2D at 0x7f5c36854c40>]"
            ]
          },
          "metadata": {},
          "execution_count": 23
        },
        {
          "output_type": "display_data",
          "data": {
            "text/plain": [
              "<Figure size 432x288 with 1 Axes>"
            ],
            "image/png": "[encoded data removed]"
          },
          "metadata": {
            "needs_background": "light"
          }
        }
      ]
    },
    {
      "cell_type": "markdown",
      "source": [
        "Definindo Função de Média "
      ],
      "metadata": {
        "id": "LaQ3peuJ1wip"
      }
    },
    {
      "cell_type": "code",
      "source": [
        "def EMA(ticker, period = 12, column = \"Close\"):\n",
        "  return ticker[column].ewm(span = period, adjust = False).mean()"
      ],
      "metadata": {
        "id": "sA-VMGKL0QpI"
      },
      "execution_count": 25,
      "outputs": []
    },
    {
      "cell_type": "markdown",
      "source": [
        "Definindo Média Ajustada"
      ],
      "metadata": {
        "id": "hu31k2OL128F"
      }
    },
    {
      "cell_type": "code",
      "source": [
        "plt.plot(EMA(ticker))"
      ],
      "metadata": {
        "colab": {
          "base_uri": "https://localhost:8080/",
          "height": 282
        },
        "id": "RMgWoOGt0uBU",
        "outputId": "568973e0-53d2-4e08-e5a9-aadc0ce690ce"
      },
      "execution_count": 26,
      "outputs": [
        {
          "output_type": "execute_result",
          "data": {
            "text/plain": [
              "[<matplotlib.lines.Line2D at 0x7f5c3656f610>]"
            ]
          },
          "metadata": {},
          "execution_count": 26
        },
        {
          "output_type": "display_data",
          "data": {
            "text/plain": [
              "<Figure size 432x288 with 1 Axes>"
            ],
            "image/png": "[encoded data removed]"
          },
          "metadata": {
            "needs_background": "light"
          }
        }
      ]
    },
    {
      "cell_type": "code",
      "source": [
        "ticker[\"SMA\"] = SMA(ticker)\n",
        "ticker[\"EMA\"] = EMA(ticker)\n",
        "\n",
        "ticker"
      ],
      "metadata": {
        "colab": {
          "base_uri": "https://localhost:8080/",
          "height": 455
        },
        "id": "Fr8NnW-V02MW",
        "outputId": "10f2c0b3-e987-429d-812a-84451885834b"
      },
      "execution_count": 29,
      "outputs": [
        {
          "output_type": "execute_result",
          "data": {
            "text/plain": [
              "                           Open  High   Low  Close  Adj Close     Volume  \\\n",
              "Date                                                                       \n",
              "2022-01-17 00:00:00-03:00  6.27  6.38  6.12   6.12       6.12   61801100   \n",
              "2022-01-18 00:00:00-03:00  6.08  6.23  5.89   5.89       5.89  117014400   \n",
              "2022-01-19 00:00:00-03:00  6.01  6.60  6.01   6.31       6.31  197823800   \n",
              "2022-01-20 00:00:00-03:00  6.36  6.81  6.35   6.65       6.65  140783000   \n",
              "2022-01-21 00:00:00-03:00  6.54  7.08  6.46   6.90       6.90  151141500   \n",
              "...                         ...   ...   ...    ...        ...        ...   \n",
              "2023-01-10 00:00:00-03:00  2.79  3.09  2.76   3.05       3.05  192054800   \n",
              "2023-01-11 00:00:00-03:00  3.07  3.11  2.90   3.03       3.03  170364500   \n",
              "2023-01-12 00:00:00-03:00  2.70  3.28  2.69   3.19       3.19  383841100   \n",
              "2023-01-13 00:00:00-03:00  3.16  3.62  3.09   3.43       3.43  315639000   \n",
              "2023-01-16 00:00:00-03:00  3.38  3.61  3.37   3.61       3.61   26058400   \n",
              "\n",
              "                                SMA       EMA  \n",
              "Date                                           \n",
              "2022-01-17 00:00:00-03:00       NaN  6.120000  \n",
              "2022-01-18 00:00:00-03:00       NaN  6.084615  \n",
              "2022-01-19 00:00:00-03:00       NaN  6.119290  \n",
              "2022-01-20 00:00:00-03:00       NaN  6.200938  \n",
              "2022-01-21 00:00:00-03:00       NaN  6.308486  \n",
              "...                             ...       ...  \n",
              "2023-01-10 00:00:00-03:00  2.726538  2.745064  \n",
              "2023-01-11 00:00:00-03:00  2.724615  2.788901  \n",
              "2023-01-12 00:00:00-03:00  2.727308  2.850608  \n",
              "2023-01-13 00:00:00-03:00  2.746154  2.939745  \n",
              "2023-01-16 00:00:00-03:00  2.775769  3.042862  \n",
              "\n",
              "[251 rows x 8 columns]"
            ],
            "text/html": [
              "\n",
              "  <div id=\"df-1bb7f659-9c0a-48ca-b863-6574148c6c9e\">\n",
              "    <div class=\"colab-df-container\">\n",
              "      <div>\n",
              "<style scoped>\n",
              "    .dataframe tbody tr th:only-of-type {\n",
              "        vertical-align: middle;\n",
              "    }\n",
              "\n",
              "    .dataframe tbody tr th {\n",
              "        vertical-align: top;\n",
              "    }\n",
              "\n",
              "    .dataframe thead th {\n",
              "        text-align: right;\n",
              "    }\n",
              "</style>\n",
              "<table border=\"1\" class=\"dataframe\">\n",
              "  <thead>\n",
              "    <tr style=\"text-align: right;\">\n",
              "      <th></th>\n",
              "      <th>Open</th>\n",
              "      <th>High</th>\n",
              "      <th>Low</th>\n",
              "      <th>Close</th>\n",
              "      <th>Adj Close</th>\n",
              "      <th>Volume</th>\n",
              "      <th>SMA</th>\n",
              "      <th>EMA</th>\n",
              "    </tr>\n",
              "    <tr>\n",
              "      <th>Date</th>\n",
              "      <th></th>\n",
              "      <th></th>\n",
              "      <th></th>\n",
              "      <th></th>\n",
              "      <th></th>\n",
              "      <th></th>\n",
              "      <th></th>\n",
              "      <th></th>\n",
              "    </tr>\n",
              "  </thead>\n",
              "  <tbody>\n",
              "    <tr>\n",
              "      <th>2022-01-17 00:00:00-03:00</th>\n",
              "      <td>6.27</td>\n",
              "      <td>6.38</td>\n",
              "      <td>6.12</td>\n",
              "      <td>6.12</td>\n",
              "      <td>6.12</td>\n",
              "      <td>61801100</td>\n",
              "      <td>NaN</td>\n",
              "      <td>6.120000</td>\n",
              "    </tr>\n",
              "    <tr>\n",
              "      <th>2022-01-18 00:00:00-03:00</th>\n",
              "      <td>6.08</td>\n",
              "      <td>6.23</td>\n",
              "      <td>5.89</td>\n",
              "      <td>5.89</td>\n",
              "      <td>5.89</td>\n",
              "      <td>117014400</td>\n",
              "      <td>NaN</td>\n",
              "      <td>6.084615</td>\n",
              "    </tr>\n",
              "    <tr>\n",
              "      <th>2022-01-19 00:00:00-03:00</th>\n",
              "      <td>6.01</td>\n",
              "      <td>6.60</td>\n",
              "      <td>6.01</td>\n",
              "      <td>6.31</td>\n",
              "      <td>6.31</td>\n",
              "      <td>197823800</td>\n",
              "      <td>NaN</td>\n",
              "      <td>6.119290</td>\n",
              "    </tr>\n",
              "    <tr>\n",
              "      <th>2022-01-20 00:00:00-03:00</th>\n",
              "      <td>6.36</td>\n",
              "      <td>6.81</td>\n",
              "      <td>6.35</td>\n",
              "      <td>6.65</td>\n",
              "      <td>6.65</td>\n",
              "      <td>140783000</td>\n",
              "      <td>NaN</td>\n",
              "      <td>6.200938</td>\n",
              "    </tr>\n",
              "    <tr>\n",
              "      <th>2022-01-21 00:00:00-03:00</th>\n",
              "      <td>6.54</td>\n",
              "      <td>7.08</td>\n",
              "      <td>6.46</td>\n",
              "      <td>6.90</td>\n",
              "      <td>6.90</td>\n",
              "      <td>151141500</td>\n",
              "      <td>NaN</td>\n",
              "      <td>6.308486</td>\n",
              "    </tr>\n",
              "    <tr>\n",
              "      <th>...</th>\n",
              "      <td>...</td>\n",
              "      <td>...</td>\n",
              "      <td>...</td>\n",
              "      <td>...</td>\n",
              "      <td>...</td>\n",
              "      <td>...</td>\n",
              "      <td>...</td>\n",
              "      <td>...</td>\n",
              "    </tr>\n",
              "    <tr>\n",
              "      <th>2023-01-10 00:00:00-03:00</th>\n",
              "      <td>2.79</td>\n",
              "      <td>3.09</td>\n",
              "      <td>2.76</td>\n",
              "      <td>3.05</td>\n",
              "      <td>3.05</td>\n",
              "      <td>192054800</td>\n",
              "      <td>2.726538</td>\n",
              "      <td>2.745064</td>\n",
              "    </tr>\n",
              "    <tr>\n",
              "      <th>2023-01-11 00:00:00-03:00</th>\n",
              "      <td>3.07</td>\n",
              "      <td>3.11</td>\n",
              "      <td>2.90</td>\n",
              "      <td>3.03</td>\n",
              "      <td>3.03</td>\n",
              "      <td>170364500</td>\n",
              "      <td>2.724615</td>\n",
              "      <td>2.788901</td>\n",
              "    </tr>\n",
              "    <tr>\n",
              "      <th>2023-01-12 00:00:00-03:00</th>\n",
              "      <td>2.70</td>\n",
              "      <td>3.28</td>\n",
              "      <td>2.69</td>\n",
              "      <td>3.19</td>\n",
              "      <td>3.19</td>\n",
              "      <td>383841100</td>\n",
              "      <td>2.727308</td>\n",
              "      <td>2.850608</td>\n",
              "    </tr>\n",
              "    <tr>\n",
              "      <th>2023-01-13 00:00:00-03:00</th>\n",
              "      <td>3.16</td>\n",
              "      <td>3.62</td>\n",
              "      <td>3.09</td>\n",
              "      <td>3.43</td>\n",
              "      <td>3.43</td>\n",
              "      <td>315639000</td>\n",
              "      <td>2.746154</td>\n",
              "      <td>2.939745</td>\n",
              "    </tr>\n",
              "    <tr>\n",
              "      <th>2023-01-16 00:00:00-03:00</th>\n",
              "      <td>3.38</td>\n",
              "      <td>3.61</td>\n",
              "      <td>3.37</td>\n",
              "      <td>3.61</td>\n",
              "      <td>3.61</td>\n",
              "      <td>26058400</td>\n",
              "      <td>2.775769</td>\n",
              "      <td>3.042862</td>\n",
              "    </tr>\n",
              "  </tbody>\n",
              "</table>\n",
              "<p>251 rows × 8 columns</p>\n",
              "</div>\n",
              "      <button class=\"colab-df-convert\" onclick=\"convertToInteractive('df-1bb7f659-9c0a-48ca-b863-6574148c6c9e')\"\n",
              "              title=\"Convert this dataframe to an interactive table.\"\n",
              "              style=\"display:none;\">\n",
              "        \n",
              "  <svg xmlns=\"http://www.w3.org/2000/svg\" height=\"24px\"viewBox=\"0 0 24 24\"\n",
              "       width=\"24px\">\n",
              "    <path d=\"M0 0h24v24H0V0z\" fill=\"none\"/>\n",
              "    <path d=\"M18.56 5.44l.94 2.06.94-2.06 2.06-.94-2.06-.94-.94-2.06-.94 2.06-2.06.94zm-11 1L8.5 8.5l.94-2.06 2.06-.94-2.06-.94L8.5 2.5l-.94 2.06-2.06.94zm10 10l.94 2.06.94-2.06 2.06-.94-2.06-.94-.94-2.06-.94 2.06-2.06.94z\"/><path d=\"M17.41 7.96l-1.37-1.37c-.4-.4-.92-.59-1.43-.59-.52 0-1.04.2-1.43.59L10.3 9.45l-7.72 7.72c-.78.78-.78 2.05 0 2.83L4 21.41c.39.39.9.59 1.41.59.51 0 1.02-.2 1.41-.59l7.78-7.78 2.81-2.81c.8-.78.8-2.07 0-2.86zM5.41 20L4 18.59l7.72-7.72 1.47 1.35L5.41 20z\"/>\n",
              "  </svg>\n",
              "      </button>\n",
              "      \n",
              "  <style>\n",
              "    .colab-df-container {\n",
              "      display:flex;\n",
              "      flex-wrap:wrap;\n",
              "      gap: 12px;\n",
              "    }\n",
              "\n",
              "    .colab-df-convert {\n",
              "      background-color: #E8F0FE;\n",
              "      border: none;\n",
              "      border-radius: 50%;\n",
              "      cursor: pointer;\n",
              "      display: none;\n",
              "      fill: #1967D2;\n",
              "      height: 32px;\n",
              "      padding: 0 0 0 0;\n",
              "      width: 32px;\n",
              "    }\n",
              "\n",
              "    .colab-df-convert:hover {\n",
              "      background-color: #E2EBFA;\n",
              "      box-shadow: 0px 1px 2px rgba(60, 64, 67, 0.3), 0px 1px 3px 1px rgba(60, 64, 67, 0.15);\n",
              "      fill: #174EA6;\n",
              "    }\n",
              "\n",
              "    [theme=dark] .colab-df-convert {\n",
              "      background-color: #3B4455;\n",
              "      fill: #D2E3FC;\n",
              "    }\n",
              "\n",
              "    [theme=dark] .colab-df-convert:hover {\n",
              "      background-color: #434B5C;\n",
              "      box-shadow: 0px 1px 3px 1px rgba(0, 0, 0, 0.15);\n",
              "      filter: drop-shadow(0px 1px 2px rgba(0, 0, 0, 0.3));\n",
              "      fill: #FFFFFF;\n",
              "    }\n",
              "  </style>\n",
              "\n",
              "      <script>\n",
              "        const buttonEl =\n",
              "          document.querySelector('#df-1bb7f659-9c0a-48ca-b863-6574148c6c9e button.colab-df-convert');\n",
              "        buttonEl.style.display =\n",
              "          google.colab.kernel.accessAllowed ? 'block' : 'none';\n",
              "\n",
              "        async function convertToInteractive(key) {\n",
              "          const element = document.querySelector('#df-1bb7f659-9c0a-48ca-b863-6574148c6c9e');\n",
              "          const dataTable =\n",
              "            await google.colab.kernel.invokeFunction('convertToInteractive',\n",
              "                                                     [key], {});\n",
              "          if (!dataTable) return;\n",
              "\n",
              "          const docLinkHtml = 'Like what you see? Visit the ' +\n",
              "            '<a target=\"_blank\" href=https://colab.research.google.com/notebooks/data_table.ipynb>data table notebook</a>'\n",
              "            + ' to learn more about interactive tables.';\n",
              "          element.innerHTML = '';\n",
              "          dataTable['output_type'] = 'display_data';\n",
              "          await google.colab.output.renderOutput(dataTable, element);\n",
              "          const docLink = document.createElement('div');\n",
              "          docLink.innerHTML = docLinkHtml;\n",
              "          element.appendChild(docLink);\n",
              "        }\n",
              "      </script>\n",
              "    </div>\n",
              "  </div>\n",
              "  "
            ]
          },
          "metadata": {},
          "execution_count": 29
        }
      ]
    },
    {
      "cell_type": "code",
      "source": [
        "plt.plot(ticker)"
      ],
      "metadata": {
        "colab": {
          "base_uri": "https://localhost:8080/",
          "height": 317
        },
        "id": "yd8diIKg1IKp",
        "outputId": "50983f1b-d8c5-44ed-a017-03c50fae78b5"
      },
      "execution_count": 32,
      "outputs": [
        {
          "output_type": "execute_result",
          "data": {
            "text/plain": [
              "[<matplotlib.lines.Line2D at 0x7f5c36466eb0>,\n",
              " <matplotlib.lines.Line2D at 0x7f5c36452430>,\n",
              " <matplotlib.lines.Line2D at 0x7f5c364523d0>]"
            ]
          },
          "metadata": {},
          "execution_count": 32
        },
        {
          "output_type": "display_data",
          "data": {
            "text/plain": [
              "<Figure size 432x288 with 1 Axes>"
            ],
            "image/png": "[encoded data removed]"
          },
          "metadata": {
            "needs_background": "light"
          }
        }
      ]
    }
  ]
}